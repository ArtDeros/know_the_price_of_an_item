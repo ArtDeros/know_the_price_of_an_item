{
  "nbformat": 4,
  "nbformat_minor": 0,
  "metadata": {
    "colab": {
      "provenance": [],
      "authorship_tag": "ABX9TyOWxOvkychdbc/VOHui5Ivb",
      "include_colab_link": true
    },
    "kernelspec": {
      "name": "python3",
      "display_name": "Python 3"
    },
    "language_info": {
      "name": "python"
    }
  },
  "cells": [
    {
      "cell_type": "markdown",
      "metadata": {
        "id": "view-in-github",
        "colab_type": "text"
      },
      "source": [
        "<a href=\"https://colab.research.google.com/github/ArtDeros/know_the_price_of_an_item/blob/main/Calcular_periodo_y_costos.ipynb\" target=\"_parent\"><img src=\"https://colab.research.google.com/assets/colab-badge.svg\" alt=\"Open In Colab\"/></a>"
      ]
    },
    {
      "cell_type": "code",
      "execution_count": null,
      "metadata": {
        "id": "bFb-tY-e6Gw2"
      },
      "outputs": [],
      "source": [
        "import math\n"
      ]
    },
    {
      "cell_type": "code",
      "source": [
        "# Datos de entrada\n",
        "costo_fijo = 5000\n",
        "costo_variable = 100\n",
        "cantidad_prod = 100\n",
        "precio_venta = 200\n",
        "\n",
        "# Cálculo del costo unitario\n",
        "costo_unitario = (costo_fijo + (costo_variable * cantidad_prod)) / cantidad_prod\n",
        "\n",
        "# Cálculo del precio de venta unitario\n",
        "precio_venta_unitario = precio_venta / cantidad_prod\n",
        "\n",
        "# Cálculo del margen de contribución\n",
        "margen_contribucion = precio_venta_unitario - costo_unitario\n",
        "\n",
        "# Resultados\n",
        "print(\"Costo unitario:\", round(costo_unitario, 2))\n",
        "print(\"Precio de venta unitario:\", round(precio_venta_unitario, 2))\n",
        "print(\"Margen de contribución:\", round(margen_contribucion, 2))\n",
        "\n",
        "\n"
      ],
      "metadata": {
        "id": "UeFnOOkh6PuR",
        "outputId": "1a4b63e9-5b2d-404e-8123-3d62500dd2ea",
        "colab": {
          "base_uri": "https://localhost:8080/"
        }
      },
      "execution_count": null,
      "outputs": [
        {
          "output_type": "stream",
          "name": "stdout",
          "text": [
            "Costo unitario: 150.0\n",
            "Precio de venta unitario: 2.0\n",
            "Margen de contribución: -148.0\n"
          ]
        }
      ]
    }
  ]
}